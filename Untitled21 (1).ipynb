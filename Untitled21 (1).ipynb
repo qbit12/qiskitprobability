{
 "cells": [
  {
   "cell_type": "markdown",
   "metadata": {},
   "source": [
    "# Quantum Simulation of Monty Hall Problem"
   ]
  },
  {
   "cell_type": "markdown",
   "metadata": {},
   "source": [
    " In the Monty Hall game, a contestant has to choose from 3 doors: door 1, door 2, door 3\n",
    " Two doors are hiding goats and one door is hiding a car\n",
    " The host gives contestant to choose which door he wants to pick and the contestant gives a random guess\n",
    " The host knows where the car and goat is and reveals a door which has a goat behind it.\n",
    " The host then asks the contestant whether he wants to stick to original choice or swap to another door.\n",
    " In this tutorial, I will be simulating the probabilities of him winning a car or losing based on whether he swaps or doesnt swap\n",
    " I will use Monte Carlo technique"
   ]
  },
  {
   "cell_type": "code",
   "execution_count": 23,
   "metadata": {},
   "outputs": [],
   "source": [
    "import numpy as np\n",
    "from qiskit import *\n",
    "from qiskit.tools.visualization import plot_histogram\n",
    "import matplotlib"
   ]
  },
  {
   "cell_type": "markdown",
   "metadata": {},
   "source": [
    "The simplest way to represent the doors is by using 3 qubit system. One qubit is initialized as |1⟩ which is door which hides the car and 2 qubits initialized as |0⟩. For setting up a superposition, we have to normalize the state so we divide by 1/√3. Normalization is done so that the sum of the probability add up to 1. Probability is represented by |amplitude|^2. Refer to Born rule as to why.The superposition of all possibilities where qubit 1 is there( and 2 0's) is given as  1/√3(|100⟩ + |010⟩ + |001⟩). These are all possibilities. Notice that the probability of car behind door 1, door 2 or door 3 is equal=1/3. We set up a simple hadamard gate to create superposition"
   ]
  },
  {
   "cell_type": "code",
   "execution_count": 12,
   "metadata": {},
   "outputs": [],
   "source": [
    "def MontyHall(circuit, quantumRegister):\n",
    "    #circuit.initialize([0, 1/np.sqrt(3), 1/np.sqrt(3), 0, 1/np.sqrt(3), 0, 0, 0 ], range(3))\n",
    "    q = quantumRegister\n",
    "    angle = 2* np.arcsin(1/np.sqrt(3))\n",
    "    circuit.ry(angle, q[0])\n",
    "\n",
    "    circuit.x(q[0]) #state |1⟩\n",
    "    circuit.ch(q[0], q[1])\n",
    "    \n",
    "    circuit.x(q[1])\n",
    "    circuit.ccx(q[0], q[1], q[2])\n",
    "    circuit.x(q[1])\n",
    "    \n",
    "    circuit.x(q[0])\n",
    "\n",
    "    \n",
    "\n"
   ]
  },
  {
   "cell_type": "markdown",
   "metadata": {},
   "source": [
    "We will also set up a 3 qubit system for representing the choice of contestant where his choice is |1⟩ and the other doors are |0⟩. The superpositon is 1/√3(|100⟩ + |010⟩ + |001⟩). The probabilities are uniform.6 qubit circuit is simulated. Comparison of winning door and choice should give result."
   ]
  },
  {
   "cell_type": "code",
   "execution_count": 29,
   "metadata": {},
   "outputs": [
    {
     "data": {
      "image/png": "[encoded data removed]",
      "text/plain": [
       "<Figure size 504x360 with 1 Axes>"
      ]
     },
     "execution_count": 29,
     "metadata": {},
     "output_type": "execute_result"
    }
   ],
   "source": [
    "def choice(circuit, door, choice, host):\n",
    "   \n",
    "    def random(circuit, c0, c1, target):\n",
    "        circuit.ry(np.pi/4, target)\n",
    "        circuit.ccx(control0, control1, target)\n",
    "        circuit.ry(-np.pi/4, target)\n",
    "    \n",
    "    cch(circuit, door[0], choice[0], host[0])\n",
    "    circuit.ccx(door[0], choice[1], host[0])\n",
    "    \n",
    "    cch(circuit, door[1], choice[1], host[0])\n",
    "    circuit.ccx(door[1], choices[2], host[0])\n",
    "    \n",
    "    circuit.ccx(door[2], choice[0], host[0])\n",
    "    cch(circuit, door[2], choice[2], host[0])\n",
    "    \n",
    "def shift(circuit, quantumregister):\n",
    "    circuit.swap(quantumregister[0], quantumregister[2])\n",
    "    circuit.swap(quantumregister[2], quantumregister[1])\n",
    "\n",
    "def cshift(control, circuit, quantumregister):\n",
    "    circuit.cswap(control, quantumregister[0], quantumregister[2])\n",
    "    circuit.cswap(control, quantumregister[2], quantumregister[1])\n",
    "    \n",
    "door = QuantumRegister(3)\n",
    "choice = QuantumRegister(3)\n",
    "host = QuantumRegister(1)\n",
    "cr = ClassicalRegister(6)\n",
    "\n",
    "circuit = QuantumCircuit(door, choice, host,cr)\n",
    "\n",
    "setEqualProbabilities(circuit, door)\n",
    "setEqualProbabilities(circuit, choice)\n",
    "\n",
    "chooseDoorToOpen(circuit, door, choice, host)\n",
    "\n",
    "shift(circuit, choice)\n",
    "cshift(host[0], circuit, choice)\n",
    "\n",
    "circuit.measure(range(6), range(6))\n",
    "circuit.draw()\n",
    "\n",
    "sim = Aer.get_backend('qasm_simulator')\n",
    "result = execute(circuit, sim, shots=104857).result()\n",
    "counts = result.get_counts(circuit)\n",
    "plot_histogram(counts)"
   ]
  },
  {
   "cell_type": "code",
   "execution_count": 27,
   "metadata": {},
   "outputs": [
    {
     "data": {
      "image/png": "[encoded data removed]",
      "text/plain": [
       "<Figure size 504x360 with 1 Axes>"
      ]
     },
     "execution_count": 27,
     "metadata": {},
     "output_type": "execute_result"
    }
   ],
   "source": [
    "def validateCounts(counts):\n",
    "    tracker = {'win':0, 'lost':0}\n",
    "    for key in counts:\n",
    "        doorString = key[0:3]\n",
    "        choiceString = key[3:]\n",
    "        \n",
    "        door = doorString.find('1')\n",
    "       \n",
    "        choice = choiceString.find('1')\n",
    "       \n",
    "       \n",
    "            \n",
    "        if (door == choice):\n",
    "            tracker['win'] += counts[key]\n",
    "        else:\n",
    "            tracker['lost'] += counts[key]\n",
    "            \n",
    "    return tracker\n",
    "\n",
    "simulationResult = validateCounts(counts)\n",
    "plot_histogram(simulationResult)"
   ]
  },
  {
   "cell_type": "code",
   "execution_count": null,
   "metadata": {},
   "outputs": [],
   "source": []
  }
 ],
 "metadata": {
  "kernelspec": {
   "display_name": "Python 3",
   "language": "python",
   "name": "python3"
  },
  "language_info": {
   "codemirror_mode": {
    "name": "ipython",
    "version": 3
   },
   "file_extension": ".py",
   "mimetype": "text/x-python",
   "name": "python",
   "nbconvert_exporter": "python",
   "pygments_lexer": "ipython3",
   "version": "3.7.6"
  }
 },
 "nbformat": 4,
 "nbformat_minor": 4
}
